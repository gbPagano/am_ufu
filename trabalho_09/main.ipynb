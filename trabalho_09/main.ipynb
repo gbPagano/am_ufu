{
 "cells": [
  {
   "cell_type": "code",
   "execution_count": 26,
   "metadata": {
    "vscode": {
     "languageId": "rust"
    }
   },
   "outputs": [],
   "source": [
    ":dep ndarray = \"0.15.6\"\n",
    ":dep ndarray-rand = \"0.14.0\"\n",
    ":dep showata = { version = \"0.3.2\", features=[\"show_ndarray\"]}\n",
    ":dep polars = { version = \"0.29.0\", features=[\"ndarray\"]}"
   ]
  },
  {
   "cell_type": "code",
   "execution_count": 3,
   "metadata": {
    "vscode": {
     "languageId": "rust"
    }
   },
   "outputs": [],
   "source": [
    "use ndarray::{Array, Array2, stack, concatenate};\n",
    "use ndarray_rand::RandomExt;\n",
    "use ndarray_rand::rand_distr::Uniform;\n",
    "use ndarray::prelude::*;"
   ]
  },
  {
   "cell_type": "code",
   "execution_count": 174,
   "metadata": {
    "vscode": {
     "languageId": "rust"
    }
   },
   "outputs": [],
   "source": [
    "use std::f64;\n",
    "\n",
    "#[derive(Debug)]\n",
    "enum ActivationFunction {\n",
    "    Tanh,\n",
    "}\n",
    "\n",
    "impl ActivationFunction {\n",
    "    fn activate(&self, x: f64) -> f64 {\n",
    "        match self {\n",
    "            ActivationFunction::Tanh => self.tanh(x),\n",
    "        }\n",
    "    }\n",
    "    \n",
    "    fn derivative(&self, x: f64) -> f64 {\n",
    "        match self {\n",
    "            ActivationFunction::Tanh => self.tanh_derivative(x),\n",
    "        }\n",
    "    }\n",
    "    \n",
    "    fn tanh(&self, x: f64) -> f64 {\n",
    "        x.tanh()\n",
    "    }\n",
    "    \n",
    "    fn tanh_derivative(&self, x: f64) -> f64 {\n",
    "        1.0 - self.tanh(x).powi(2)\n",
    "    }\n",
    "}\n",
    "\n"
   ]
  },
  {
   "cell_type": "code",
   "execution_count": 609,
   "metadata": {
    "vscode": {
     "languageId": "rust"
    }
   },
   "outputs": [],
   "source": [
    "#[derive(Debug)]\n",
    "struct Layer {\n",
    "    len_inputs: usize,\n",
    "    neurons: usize,\n",
    "    function: ActivationFunction,\n",
    "    weights: Array2<f64>,\n",
    "    input: Option<Array2<f64>>,\n",
    "    net: Option<Array2<f64>>,\n",
    "    output: Option<Array2<f64>>,\n",
    "    idx: Option<usize>,\n",
    "}\n",
    "\n",
    "impl Layer {\n",
    "    fn new(len_inputs: usize, neurons: usize, function: ActivationFunction) -> Self {\n",
    "        let shape = (neurons, len_inputs + 1);\n",
    "        let weights = Array::random(shape, Uniform::new(-0.5, 0.5));\n",
    "\n",
    "        Layer {\n",
    "            len_inputs: len_inputs,\n",
    "            neurons: neurons,\n",
    "            function: function,\n",
    "            weights: weights,\n",
    "            input: None,\n",
    "            net: None,\n",
    "            output: None,\n",
    "            idx: None,\n",
    "        }\n",
    "    }\n",
    "\n",
    "    fn forward(&mut self, layer_input: &Array2<f64>) -> Array2<f64> {\n",
    "        self.input = Some(layer_input.clone());\n",
    "        self.net = Some(self.input.as_ref().unwrap().dot(&self.weights.t()));\n",
    "        self.output = Some(self.net.as_ref().unwrap().mapv(|x| self.function.activate(x)));\n",
    "        self.output.clone().unwrap()\n",
    "    }\n",
    "\n",
    "    \n",
    "    fn backward(\n",
    "        &mut self, \n",
    "        alpha: f64,\n",
    "        last: bool,\n",
    "        previous_delta: Option<&Array2<f64>>,\n",
    "        previous_weight: Option<&Array2<f64>>,\n",
    "        error: Option<&Array2<f64>>\n",
    "    ) -> (Array2<f64>, Array2<f64>) {\n",
    "        \n",
    "        let delta = if last {\n",
    "            let error = error.unwrap();\n",
    "            error * self.net.as_ref().unwrap().mapv(|x| self.function.derivative(x))\n",
    "        } else {\n",
    "            let previous_delta = previous_delta.unwrap();\n",
    "            let previous_weight = previous_weight.unwrap();\n",
    "            let delta = previous_delta.dot(previous_weight).slice(s![.., 1..]).to_owned();\n",
    "            delta * self.net.as_ref().unwrap().mapv(|x| self.function.derivative(x))\n",
    "        };\n",
    "        \n",
    "        \n",
    "        self.weights = delta.t().dot(self.input.as_ref().unwrap()) * alpha + &self.weights;\n",
    "        \n",
    "        (delta, self.weights.to_owned())\n",
    "    }\n",
    "\n",
    "\n",
    "\n",
    "    fn set_idx(&mut self, idx: usize) {\n",
    "        self.idx = Some(idx);\n",
    "    }\n",
    "}"
   ]
  },
  {
   "cell_type": "code",
   "execution_count": 616,
   "metadata": {
    "vscode": {
     "languageId": "rust"
    }
   },
   "outputs": [],
   "source": [
    "#[derive(Debug)]\n",
    "struct NeuralNetwork {\n",
    "    layers: Vec<Layer>,\n",
    "    all_mse: Vec<f64>,\n",
    "}\n",
    "\n",
    "impl NeuralNetwork {\n",
    "    fn new(mut layers: Vec<Layer>) -> Self {\n",
    "        for (idx, layer) in layers.iter_mut().enumerate() {\n",
    "            layer.set_idx(idx + 1);\n",
    "        }\n",
    "        \n",
    "        NeuralNetwork {\n",
    "            layers,\n",
    "            all_mse: Vec::new(),\n",
    "        }\n",
    "    }\n",
    "\n",
    "    fn forward(&mut self, x_input: &Array2<f64>) -> Array2<f64> {\n",
    "        let mut input_layer = concatenate![Axis(1), Array::from_shape_vec((1, 1), vec![1.0]).unwrap(), x_input.clone()];\n",
    "        let mut output: Array2<f64> = Array::zeros((0, 0));\n",
    "\n",
    "        for layer in &mut self.layers {\n",
    "            output = layer.forward(&input_layer);\n",
    "            input_layer = concatenate![Axis(1), Array::from_shape_vec((1, 1), vec![1.0]).unwrap(), output];\n",
    "        }\n",
    "\n",
    "        output\n",
    "    }\n",
    "\n",
    "    fn backward(&mut self, alpha: f64, error: &Array2<f64>) {\n",
    "        let mut previous_delta = None;\n",
    "        let mut previous_weight = None;\n",
    "        let mut last = true;\n",
    "        \n",
    "        for layer in self.layers.iter_mut().rev() {\n",
    "            let (delta, weights) = layer.backward(alpha, last, previous_delta.as_ref(), previous_weight.as_ref(), Some(&error));\n",
    "            last = false;\n",
    "            previous_delta = Some(delta);\n",
    "            previous_weight = Some(weights);\n",
    "        }\n",
    "    }\n",
    "\n",
    "    fn predict(&mut self, x: &Array2<f64>) -> Array2<f64> {\n",
    "        self.forward(x)\n",
    "    }\n",
    "}"
   ]
  },
  {
   "cell_type": "code",
   "execution_count": 617,
   "metadata": {
    "vscode": {
     "languageId": "rust"
    }
   },
   "outputs": [
    {
     "data": {
      "text/plain": [
       "[[0.5763660324621392]], shape=[1, 1], strides=[1, 1], layout=CFcf (0xf), const ndim=2"
      ]
     },
     "execution_count": 617,
     "metadata": {},
     "output_type": "execute_result"
    }
   ],
   "source": [
    "let weights_1 = array![[0.2, 0.4, 0.5],[0.3, 0.6, 0.7],[0.4, 0.8, 0.3]];\n",
    "let weights_2 = array![[-0.7, 0.6, 0.2, 0.7],[-0.3, 0.7, 0.2, 0.8]];\n",
    "let weights_3 = array![[0.1, 0.8, 0.5]];\n",
    "\n",
    "\n",
    "let mut nn = NeuralNetwork::new(vec![\n",
    "    Layer::new(2, 3, ActivationFunction::Tanh),\n",
    "    Layer::new(3, 2, ActivationFunction::Tanh),\n",
    "    Layer::new(2, 1, ActivationFunction::Tanh),\n",
    "]);\n",
    "\n",
    "nn.layers[0].weights = weights_1;\n",
    "nn.layers[1].weights = weights_2;\n",
    "nn.layers[2].weights = weights_3;\n",
    "\n",
    "let x_inputs = array![[0.3, 0.7]];\n",
    "let out = nn.forward(&x_inputs);\n",
    "out\n"
   ]
  },
  {
   "cell_type": "code",
   "execution_count": 618,
   "metadata": {
    "vscode": {
     "languageId": "rust"
    }
   },
   "outputs": [
    {
     "data": {
      "text/plain": [
       "[[0.403346832835286]], shape=[1, 1], strides=[1, 1], layout=CFcf (0xf), const ndim=2"
      ]
     },
     "execution_count": 618,
     "metadata": {},
     "output_type": "execute_result"
    }
   ],
   "source": [
    "nn.backward(0.05, &array![[-2.0]]);\n",
    "nn.predict(&x_inputs)"
   ]
  },
  {
   "cell_type": "code",
   "execution_count": 43,
   "metadata": {
    "vscode": {
     "languageId": "rust"
    }
   },
   "outputs": [],
   "source": [
    "use polars::prelude::*;\n",
    "let file_path = \"train.csv\";\n",
    "\n",
    "    // Ler o arquivo CSV para um DataFrame\n",
    "let df: DataFrame = CsvReader::from_path(file_path)\n",
    "    .unwrap()\n",
    "    .infer_schema(None)\n",
    "    .has_header(true)\n",
    "    .finish()\n",
    "    .unwrap();\n",
    "\n",
    "// Exibir o DataFrame"
   ]
  },
  {
   "cell_type": "code",
   "execution_count": 110,
   "metadata": {
    "vscode": {
     "languageId": "rust"
    }
   },
   "outputs": [],
   "source": [
    ":dep ndarray-csv = {version = \"0.4.1\"}\n",
    ":dep csv"
   ]
  },
  {
   "cell_type": "code",
   "execution_count": 163,
   "metadata": {
    "vscode": {
     "languageId": "rust"
    }
   },
   "outputs": [
    {
     "data": {
      "text/plain": [
       "[[1.0],\n",
       " [0.0],\n",
       " [1.0],\n",
       " [4.0],\n",
       " [0.0],\n",
       " ...,\n",
       " [0.0],\n",
       " [1.0],\n",
       " [7.0],\n",
       " [6.0],\n",
       " [9.0]], shape=[42000, 1], strides=[1, 1], layout=CFcf (0xf), const ndim=2"
      ]
     },
     "execution_count": 163,
     "metadata": {},
     "output_type": "execute_result"
    }
   ],
   "source": [
    "let s = df.column(\"label\").unwrap().to_owned();\n",
    "let s = s.i64().unwrap().to_owned();\n",
    "let s = s.to_ndarray().unwrap().to_owned();\n",
    "let s = s.into_shape((42000,1)).unwrap().mapv(|x| x as f64);;\n",
    "s"
   ]
  },
  {
   "cell_type": "code",
   "execution_count": 170,
   "metadata": {
    "vscode": {
     "languageId": "rust"
    }
   },
   "outputs": [
    {
     "ename": "Error",
     "evalue": "no method named `to_vec` found for struct `Row` in the current scope",
     "output_type": "error",
     "traceback": [
      "\u001b[31m[E0599] Error:\u001b[0m no method named `to_vec` found for struct `Row` in the current scope",
      "   \u001b[38;5;246m╭\u001b[0m\u001b[38;5;246m─\u001b[0m\u001b[38;5;246m[\u001b[0mcommand_170:1:1\u001b[38;5;246m]\u001b[0m",
      "   \u001b[38;5;246m│\u001b[0m",
      " \u001b[38;5;246m1 │\u001b[0m \u001b[38;5;249md\u001b[0m\u001b[38;5;249mf\u001b[0m\u001b[38;5;249m.\u001b[0m\u001b[38;5;249mg\u001b[0m\u001b[38;5;249me\u001b[0m\u001b[38;5;249mt\u001b[0m\u001b[38;5;249m_\u001b[0m\u001b[38;5;249mr\u001b[0m\u001b[38;5;249mo\u001b[0m\u001b[38;5;249mw\u001b[0m\u001b[38;5;249m(\u001b[0m\u001b[38;5;249m0\u001b[0m\u001b[38;5;249m)\u001b[0m\u001b[38;5;249m.\u001b[0m\u001b[38;5;249mu\u001b[0m\u001b[38;5;249mn\u001b[0m\u001b[38;5;249mw\u001b[0m\u001b[38;5;249mr\u001b[0m\u001b[38;5;249ma\u001b[0m\u001b[38;5;249mp\u001b[0m\u001b[38;5;249m(\u001b[0m\u001b[38;5;249m)\u001b[0m\u001b[38;5;249m.\u001b[0m\u001b[38;5;54mt\u001b[0m\u001b[38;5;54mo\u001b[0m\u001b[38;5;54m_\u001b[0m\u001b[38;5;54mv\u001b[0m\u001b[38;5;54me\u001b[0m\u001b[38;5;54mc\u001b[0m\u001b[38;5;249m(\u001b[0m\u001b[38;5;249m)\u001b[0m",
      " \u001b[38;5;246m  ·\u001b[0m                        \u001b[38;5;100m┬\u001b[0m\u001b[38;5;54m─\u001b[0m\u001b[38;5;54m─\u001b[0m\u001b[38;5;54m┬\u001b[0m\u001b[38;5;54m─\u001b[0m\u001b[38;5;54m─\u001b[0m  ",
      " \u001b[38;5;246m  ·\u001b[0m                        \u001b[38;5;100m╰\u001b[0m\u001b[38;5;100m─\u001b[0m\u001b[38;5;100m─\u001b[0m\u001b[38;5;100m─\u001b[0m\u001b[38;5;100m─\u001b[0m\u001b[38;5;100m─\u001b[0m\u001b[38;5;100m─\u001b[0m\u001b[38;5;100m─\u001b[0m help: one of the expressions' fields has a method of the same name: `0.`",
      " \u001b[38;5;246m  ·\u001b[0m                           \u001b[38;5;54m│\u001b[0m    ",
      " \u001b[38;5;246m  ·\u001b[0m                           \u001b[38;5;54m╰\u001b[0m\u001b[38;5;54m─\u001b[0m\u001b[38;5;54m─\u001b[0m\u001b[38;5;54m─\u001b[0m\u001b[38;5;54m─\u001b[0m method not found in `Row<'_>`",
      "\u001b[38;5;246m───╯\u001b[0m"
     ]
    }
   ],
   "source": [
    "df.get_row(0).unwrap().to_vec()"
   ]
  },
  {
   "cell_type": "code",
   "execution_count": null,
   "metadata": {
    "vscode": {
     "languageId": "rust"
    }
   },
   "outputs": [],
   "source": []
  }
 ],
 "metadata": {
  "kernelspec": {
   "display_name": "Rust",
   "language": "rust",
   "name": "rust"
  },
  "language_info": {
   "codemirror_mode": "rust",
   "file_extension": ".rs",
   "mimetype": "text/rust",
   "name": "Rust",
   "pygment_lexer": "rust",
   "version": ""
  },
  "orig_nbformat": 4
 },
 "nbformat": 4,
 "nbformat_minor": 2
}
