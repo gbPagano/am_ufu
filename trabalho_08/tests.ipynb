{
 "cells": [
  {
   "cell_type": "code",
   "execution_count": 1,
   "metadata": {},
   "outputs": [],
   "source": [
    "\n",
    "import numpy as np\n",
    "from rich.progress import track\n",
    "\n",
    "class Tanh:\n",
    "    def activate(self, x):\n",
    "        return (np.exp(x) - np.exp(-x)) / (np.exp(x) + np.exp(-x))\n",
    "    \n",
    "    def derivative(self, x):\n",
    "        return 1 - self.activate(x) ** 2\n",
    "\n",
    "\n",
    "class Layer:\n",
    "    def __init__(self, len_inputs, neurons, function, last=False):\n",
    "        shape = neurons, len_inputs + 1\n",
    "        self.weights = np.random.uniform(-0.5, 0.5, size=shape)\n",
    "        self.f = function\n",
    "        self.last = last\n",
    "        self.idx = None\n",
    "        self.neurons = neurons\n",
    "        self.len_inputs = len_inputs\n",
    "    \n",
    "    def forward(self, layer_input):\n",
    "        self.input = layer_input\n",
    "        self.net = self.input.dot(self.weights.T)\n",
    "        self.output = self.f.activate(self.net)\n",
    "        return self.output\n",
    "    \n",
    "    def backward(self, target, alpha, previous_delta=None, previous_weigth=None):\n",
    "        if self.last:\n",
    "            self.delta = (target - self.output) * self.f.derivative(self.net)\n",
    "        else:\n",
    "            self.delta = (np.delete(previous_delta.dot(previous_weigth).T, 0) * self.f.derivative(self.net))\n",
    "        \n",
    "        self.weights += np.array([self.delta]).T * np.array([self.input]) * alpha\n",
    "        \n",
    "        return self.delta, self.weights\n",
    "        \n",
    "        \n",
    "        \n",
    "        \n",
    "    def __repr__(self):\n",
    "        return f\"({self.idx}º Layer, Neurons: {self.neurons}, Last: {self.last})\"\n",
    "\n",
    "\n",
    "class NeuralNetwork:\n",
    "    def __init__(self, *layers: Layer):\n",
    "        self.layers = list(layers)\n",
    "        for idx, layer in enumerate(self.layers):\n",
    "            layer.idx = idx + 1\n",
    "        self.layers[-1].last = True\n",
    "        self.len_inputs = self.layers[0].len_inputs\n",
    "        \n",
    "    def __repr__(self):\n",
    "        return f\"NeuralNetwork (Num_Layers: {len(self.layers)}, Len_Inputs: {self.len_inputs}, Layers: {self.layers})\"\n",
    "    \n",
    "    @property\n",
    "    def weights(self):\n",
    "        resp = []\n",
    "        for idx, layer in enumerate(self.layers):\n",
    "            resp.append((idx+1, layer.weights))\n",
    "        return resp\n",
    "        \n",
    "    def _forward(self, x_input):\n",
    "        #input_layer = x_input\n",
    "        input_layer = np.append(1, x_input)\n",
    "        for layer in self.layers:\n",
    "            out_layer = layer.forward(input_layer)\n",
    "            input_layer = np.append(1, out_layer)\n",
    "            \n",
    "        return out_layer\n",
    "    \n",
    "    def _backward(self, y, alpha):\n",
    "        for layer in reversed(self.layers):\n",
    "            if layer.last:\n",
    "                previous_delta, previous_weigth = layer.backward(y, alpha)\n",
    "            else:\n",
    "                previous_delta, previous_weigth = layer.backward(y, alpha, previous_delta, previous_weigth)\n",
    "    \n",
    "    def fit(self, x_train, y_train, epochs=2000, alpha=0.05):\n",
    "\n",
    "        for epoch in track(range(epochs), description=\"Processing...\"):\n",
    "            outputs = []\n",
    "            for x, y in zip(x_train, y_train):\n",
    "                out = self._forward(x)\n",
    "                self._backward(y, alpha)\n",
    "                outputs.append(out)\n",
    "                \n",
    "            errors = np.array([sum(error) for error in (y_train - outputs) ** 2])\n",
    "            self.mean_squared_error = sum(errors) / len(errors)\n",
    "            \n",
    "            if not epoch % 100:\n",
    "                print(f\"MSE: {self.mean_squared_error}\")\n",
    "                \n",
    "                \n",
    "    def predict(self, x):\n",
    "        out = self._forward(x)\n",
    "        return out\n",
    "\n"
   ]
  },
  {
   "cell_type": "code",
   "execution_count": 2,
   "metadata": {},
   "outputs": [],
   "source": [
    "from rich.traceback import install; install();"
   ]
  },
  {
   "cell_type": "code",
   "execution_count": 3,
   "metadata": {},
   "outputs": [
    {
     "data": {
      "application/vnd.jupyter.widget-view+json": {
       "model_id": "a690558f91d64e96bf7c26edebd1d831",
       "version_major": 2,
       "version_minor": 0
      },
      "text/plain": [
       "Output()"
      ]
     },
     "metadata": {},
     "output_type": "display_data"
    },
    {
     "data": {
      "text/html": [
       "<pre style=\"white-space:pre;overflow-x:auto;line-height:normal;font-family:Menlo,'DejaVu Sans Mono',consolas,'Courier New',monospace\">MSE: 0.70335490709381\n",
       "</pre>\n"
      ],
      "text/plain": [
       "MSE: 0.70335490709381\n"
      ]
     },
     "metadata": {},
     "output_type": "display_data"
    },
    {
     "data": {
      "text/html": [
       "<pre style=\"white-space:pre;overflow-x:auto;line-height:normal;font-family:Menlo,'DejaVu Sans Mono',consolas,'Courier New',monospace\">MSE: 0.5870951567302061\n",
       "</pre>\n"
      ],
      "text/plain": [
       "MSE: 0.5870951567302061\n"
      ]
     },
     "metadata": {},
     "output_type": "display_data"
    },
    {
     "data": {
      "text/html": [
       "<pre style=\"white-space:pre;overflow-x:auto;line-height:normal;font-family:Menlo,'DejaVu Sans Mono',consolas,'Courier New',monospace\">MSE: 0.6015914304873866\n",
       "</pre>\n"
      ],
      "text/plain": [
       "MSE: 0.6015914304873866\n"
      ]
     },
     "metadata": {},
     "output_type": "display_data"
    },
    {
     "data": {
      "text/html": [
       "<pre style=\"white-space:pre;overflow-x:auto;line-height:normal;font-family:Menlo,'DejaVu Sans Mono',consolas,'Courier New',monospace\">MSE: 0.5811064102858041\n",
       "</pre>\n"
      ],
      "text/plain": [
       "MSE: 0.5811064102858041\n"
      ]
     },
     "metadata": {},
     "output_type": "display_data"
    },
    {
     "data": {
      "text/html": [
       "<pre style=\"white-space:pre;overflow-x:auto;line-height:normal;font-family:Menlo,'DejaVu Sans Mono',consolas,'Courier New',monospace\">MSE: 0.09246739531856787\n",
       "</pre>\n"
      ],
      "text/plain": [
       "MSE: 0.09246739531856787\n"
      ]
     },
     "metadata": {},
     "output_type": "display_data"
    },
    {
     "data": {
      "text/html": [
       "<pre style=\"white-space:pre;overflow-x:auto;line-height:normal;font-family:Menlo,'DejaVu Sans Mono',consolas,'Courier New',monospace\">MSE: 0.003995811441819124\n",
       "</pre>\n"
      ],
      "text/plain": [
       "MSE: 0.003995811441819124\n"
      ]
     },
     "metadata": {},
     "output_type": "display_data"
    },
    {
     "data": {
      "text/html": [
       "<pre style=\"white-space:pre;overflow-x:auto;line-height:normal;font-family:Menlo,'DejaVu Sans Mono',consolas,'Courier New',monospace\">MSE: 0.003135038526006875\n",
       "</pre>\n"
      ],
      "text/plain": [
       "MSE: 0.003135038526006875\n"
      ]
     },
     "metadata": {},
     "output_type": "display_data"
    },
    {
     "data": {
      "text/html": [
       "<pre style=\"white-space:pre;overflow-x:auto;line-height:normal;font-family:Menlo,'DejaVu Sans Mono',consolas,'Courier New',monospace\">MSE: 0.0030092668267099674\n",
       "</pre>\n"
      ],
      "text/plain": [
       "MSE: 0.0030092668267099674\n"
      ]
     },
     "metadata": {},
     "output_type": "display_data"
    },
    {
     "data": {
      "text/html": [
       "<pre style=\"white-space:pre;overflow-x:auto;line-height:normal;font-family:Menlo,'DejaVu Sans Mono',consolas,'Courier New',monospace\">MSE: 0.00293869118326669\n",
       "</pre>\n"
      ],
      "text/plain": [
       "MSE: 0.00293869118326669\n"
      ]
     },
     "metadata": {},
     "output_type": "display_data"
    },
    {
     "data": {
      "text/html": [
       "<pre style=\"white-space:pre;overflow-x:auto;line-height:normal;font-family:Menlo,'DejaVu Sans Mono',consolas,'Courier New',monospace\">MSE: 0.00288713467333193\n",
       "</pre>\n"
      ],
      "text/plain": [
       "MSE: 0.00288713467333193\n"
      ]
     },
     "metadata": {},
     "output_type": "display_data"
    },
    {
     "data": {
      "text/html": [
       "<pre style=\"white-space:pre;overflow-x:auto;line-height:normal;font-family:Menlo,'DejaVu Sans Mono',consolas,'Courier New',monospace\">MSE: 0.0028445571267187845\n",
       "</pre>\n"
      ],
      "text/plain": [
       "MSE: 0.0028445571267187845\n"
      ]
     },
     "metadata": {},
     "output_type": "display_data"
    },
    {
     "data": {
      "text/html": [
       "<pre style=\"white-space:pre;overflow-x:auto;line-height:normal;font-family:Menlo,'DejaVu Sans Mono',consolas,'Courier New',monospace\">MSE: 0.002806956596997161\n",
       "</pre>\n"
      ],
      "text/plain": [
       "MSE: 0.002806956596997161\n"
      ]
     },
     "metadata": {},
     "output_type": "display_data"
    },
    {
     "data": {
      "text/html": [
       "<pre style=\"white-space:pre;overflow-x:auto;line-height:normal;font-family:Menlo,'DejaVu Sans Mono',consolas,'Courier New',monospace\">MSE: 0.00277262462167859\n",
       "</pre>\n"
      ],
      "text/plain": [
       "MSE: 0.00277262462167859\n"
      ]
     },
     "metadata": {},
     "output_type": "display_data"
    },
    {
     "data": {
      "text/html": [
       "<pre style=\"white-space:pre;overflow-x:auto;line-height:normal;font-family:Menlo,'DejaVu Sans Mono',consolas,'Courier New',monospace\">MSE: 0.0027407651413670834\n",
       "</pre>\n"
      ],
      "text/plain": [
       "MSE: 0.0027407651413670834\n"
      ]
     },
     "metadata": {},
     "output_type": "display_data"
    },
    {
     "data": {
      "text/html": [
       "<pre style=\"white-space:pre;overflow-x:auto;line-height:normal;font-family:Menlo,'DejaVu Sans Mono',consolas,'Courier New',monospace\">MSE: 0.0027109589465109337\n",
       "</pre>\n"
      ],
      "text/plain": [
       "MSE: 0.0027109589465109337\n"
      ]
     },
     "metadata": {},
     "output_type": "display_data"
    },
    {
     "data": {
      "text/html": [
       "<pre style=\"white-space:pre;overflow-x:auto;line-height:normal;font-family:Menlo,'DejaVu Sans Mono',consolas,'Courier New',monospace\">MSE: 0.0026829515979268142\n",
       "</pre>\n"
      ],
      "text/plain": [
       "MSE: 0.0026829515979268142\n"
      ]
     },
     "metadata": {},
     "output_type": "display_data"
    },
    {
     "data": {
      "text/html": [
       "<pre style=\"white-space:pre;overflow-x:auto;line-height:normal;font-family:Menlo,'DejaVu Sans Mono',consolas,'Courier New',monospace\">MSE: 0.002656566387437313\n",
       "</pre>\n"
      ],
      "text/plain": [
       "MSE: 0.002656566387437313\n"
      ]
     },
     "metadata": {},
     "output_type": "display_data"
    },
    {
     "data": {
      "text/html": [
       "<pre style=\"white-space:pre;overflow-x:auto;line-height:normal;font-family:Menlo,'DejaVu Sans Mono',consolas,'Courier New',monospace\">MSE: 0.002631666902057951\n",
       "</pre>\n"
      ],
      "text/plain": [
       "MSE: 0.002631666902057951\n"
      ]
     },
     "metadata": {},
     "output_type": "display_data"
    },
    {
     "data": {
      "text/html": [
       "<pre style=\"white-space:pre;overflow-x:auto;line-height:normal;font-family:Menlo,'DejaVu Sans Mono',consolas,'Courier New',monospace\">MSE: 0.0026081400014337686\n",
       "</pre>\n"
      ],
      "text/plain": [
       "MSE: 0.0026081400014337686\n"
      ]
     },
     "metadata": {},
     "output_type": "display_data"
    },
    {
     "data": {
      "text/html": [
       "<pre style=\"white-space:pre;overflow-x:auto;line-height:normal;font-family:Menlo,'DejaVu Sans Mono',consolas,'Courier New',monospace\">MSE: 0.002585887564408645\n",
       "</pre>\n"
      ],
      "text/plain": [
       "MSE: 0.002585887564408645\n"
      ]
     },
     "metadata": {},
     "output_type": "display_data"
    },
    {
     "data": {
      "text/html": [
       "<pre style=\"white-space:pre;overflow-x:auto;line-height:normal;font-family:Menlo,'DejaVu Sans Mono',consolas,'Courier New',monospace\"></pre>\n"
      ],
      "text/plain": []
     },
     "metadata": {},
     "output_type": "display_data"
    },
    {
     "data": {
      "text/html": [
       "<pre style=\"white-space:pre;overflow-x:auto;line-height:normal;font-family:Menlo,'DejaVu Sans Mono',consolas,'Courier New',monospace\">\n",
       "</pre>\n"
      ],
      "text/plain": [
       "\n"
      ]
     },
     "metadata": {},
     "output_type": "display_data"
    }
   ],
   "source": [
    "x_train = [0, .1, .2, .3, .4, .5, .6, .7, .8, .9, 1.0]\n",
    "y_train = [-.9602, -.5770, -.0729, .3771, .6405, .6600, .4609, .1336, -.2013, -.4344, -.5000 ]\n",
    "x_train = np.array([[x, x] for x in x_train])\n",
    "y_train = np.array([[y, y] for y in y_train])\n",
    "\n",
    "\n",
    "rede = NeuralNetwork(\n",
    "    Layer(len_inputs=2, neurons=4, function=Tanh()),\n",
    "    Layer(len_inputs=4, neurons=2, function=Tanh()),\n",
    ")\n",
    "rede.fit(x_train, y_train)"
   ]
  },
  {
   "cell_type": "code",
   "execution_count": 6,
   "metadata": {},
   "outputs": [],
   "source": [
    "import polars as pl\n",
    "import matplotlib.pyplot as plt"
   ]
  },
  {
   "cell_type": "code",
   "execution_count": 7,
   "metadata": {},
   "outputs": [
    {
     "data": {
      "text/html": [
       "<div><style>\n",
       ".dataframe > thead > tr > th,\n",
       ".dataframe > tbody > tr > td {\n",
       "  text-align: right;\n",
       "}\n",
       "</style>\n",
       "<small>shape: (5, 785)</small><table border=\"1\" class=\"dataframe\"><thead><tr><th>label</th><th>pixel0</th><th>pixel1</th><th>pixel2</th><th>pixel3</th><th>pixel4</th><th>pixel5</th><th>pixel6</th><th>pixel7</th><th>pixel8</th><th>pixel9</th><th>pixel10</th><th>pixel11</th><th>pixel12</th><th>pixel13</th><th>pixel14</th><th>pixel15</th><th>pixel16</th><th>pixel17</th><th>pixel18</th><th>pixel19</th><th>pixel20</th><th>pixel21</th><th>pixel22</th><th>pixel23</th><th>pixel24</th><th>pixel25</th><th>pixel26</th><th>pixel27</th><th>pixel28</th><th>pixel29</th><th>pixel30</th><th>pixel31</th><th>pixel32</th><th>pixel33</th><th>pixel34</th><th>pixel35</th><th>&hellip;</th><th>pixel747</th><th>pixel748</th><th>pixel749</th><th>pixel750</th><th>pixel751</th><th>pixel752</th><th>pixel753</th><th>pixel754</th><th>pixel755</th><th>pixel756</th><th>pixel757</th><th>pixel758</th><th>pixel759</th><th>pixel760</th><th>pixel761</th><th>pixel762</th><th>pixel763</th><th>pixel764</th><th>pixel765</th><th>pixel766</th><th>pixel767</th><th>pixel768</th><th>pixel769</th><th>pixel770</th><th>pixel771</th><th>pixel772</th><th>pixel773</th><th>pixel774</th><th>pixel775</th><th>pixel776</th><th>pixel777</th><th>pixel778</th><th>pixel779</th><th>pixel780</th><th>pixel781</th><th>pixel782</th><th>pixel783</th></tr><tr><td>i64</td><td>i64</td><td>i64</td><td>i64</td><td>i64</td><td>i64</td><td>i64</td><td>i64</td><td>i64</td><td>i64</td><td>i64</td><td>i64</td><td>i64</td><td>i64</td><td>i64</td><td>i64</td><td>i64</td><td>i64</td><td>i64</td><td>i64</td><td>i64</td><td>i64</td><td>i64</td><td>i64</td><td>i64</td><td>i64</td><td>i64</td><td>i64</td><td>i64</td><td>i64</td><td>i64</td><td>i64</td><td>i64</td><td>i64</td><td>i64</td><td>i64</td><td>i64</td><td>&hellip;</td><td>i64</td><td>i64</td><td>i64</td><td>i64</td><td>i64</td><td>i64</td><td>i64</td><td>i64</td><td>i64</td><td>i64</td><td>i64</td><td>i64</td><td>i64</td><td>i64</td><td>i64</td><td>i64</td><td>i64</td><td>i64</td><td>i64</td><td>i64</td><td>i64</td><td>i64</td><td>i64</td><td>i64</td><td>i64</td><td>i64</td><td>i64</td><td>i64</td><td>i64</td><td>i64</td><td>i64</td><td>i64</td><td>i64</td><td>i64</td><td>i64</td><td>i64</td><td>i64</td></tr></thead><tbody><tr><td>1</td><td>0</td><td>0</td><td>0</td><td>0</td><td>0</td><td>0</td><td>0</td><td>0</td><td>0</td><td>0</td><td>0</td><td>0</td><td>0</td><td>0</td><td>0</td><td>0</td><td>0</td><td>0</td><td>0</td><td>0</td><td>0</td><td>0</td><td>0</td><td>0</td><td>0</td><td>0</td><td>0</td><td>0</td><td>0</td><td>0</td><td>0</td><td>0</td><td>0</td><td>0</td><td>0</td><td>0</td><td>&hellip;</td><td>0</td><td>0</td><td>0</td><td>0</td><td>0</td><td>0</td><td>0</td><td>0</td><td>0</td><td>0</td><td>0</td><td>0</td><td>0</td><td>0</td><td>0</td><td>0</td><td>0</td><td>0</td><td>0</td><td>0</td><td>0</td><td>0</td><td>0</td><td>0</td><td>0</td><td>0</td><td>0</td><td>0</td><td>0</td><td>0</td><td>0</td><td>0</td><td>0</td><td>0</td><td>0</td><td>0</td><td>0</td></tr><tr><td>0</td><td>0</td><td>0</td><td>0</td><td>0</td><td>0</td><td>0</td><td>0</td><td>0</td><td>0</td><td>0</td><td>0</td><td>0</td><td>0</td><td>0</td><td>0</td><td>0</td><td>0</td><td>0</td><td>0</td><td>0</td><td>0</td><td>0</td><td>0</td><td>0</td><td>0</td><td>0</td><td>0</td><td>0</td><td>0</td><td>0</td><td>0</td><td>0</td><td>0</td><td>0</td><td>0</td><td>0</td><td>&hellip;</td><td>0</td><td>0</td><td>0</td><td>0</td><td>0</td><td>0</td><td>0</td><td>0</td><td>0</td><td>0</td><td>0</td><td>0</td><td>0</td><td>0</td><td>0</td><td>0</td><td>0</td><td>0</td><td>0</td><td>0</td><td>0</td><td>0</td><td>0</td><td>0</td><td>0</td><td>0</td><td>0</td><td>0</td><td>0</td><td>0</td><td>0</td><td>0</td><td>0</td><td>0</td><td>0</td><td>0</td><td>0</td></tr><tr><td>1</td><td>0</td><td>0</td><td>0</td><td>0</td><td>0</td><td>0</td><td>0</td><td>0</td><td>0</td><td>0</td><td>0</td><td>0</td><td>0</td><td>0</td><td>0</td><td>0</td><td>0</td><td>0</td><td>0</td><td>0</td><td>0</td><td>0</td><td>0</td><td>0</td><td>0</td><td>0</td><td>0</td><td>0</td><td>0</td><td>0</td><td>0</td><td>0</td><td>0</td><td>0</td><td>0</td><td>0</td><td>&hellip;</td><td>0</td><td>0</td><td>0</td><td>0</td><td>0</td><td>0</td><td>0</td><td>0</td><td>0</td><td>0</td><td>0</td><td>0</td><td>0</td><td>0</td><td>0</td><td>0</td><td>0</td><td>0</td><td>0</td><td>0</td><td>0</td><td>0</td><td>0</td><td>0</td><td>0</td><td>0</td><td>0</td><td>0</td><td>0</td><td>0</td><td>0</td><td>0</td><td>0</td><td>0</td><td>0</td><td>0</td><td>0</td></tr><tr><td>4</td><td>0</td><td>0</td><td>0</td><td>0</td><td>0</td><td>0</td><td>0</td><td>0</td><td>0</td><td>0</td><td>0</td><td>0</td><td>0</td><td>0</td><td>0</td><td>0</td><td>0</td><td>0</td><td>0</td><td>0</td><td>0</td><td>0</td><td>0</td><td>0</td><td>0</td><td>0</td><td>0</td><td>0</td><td>0</td><td>0</td><td>0</td><td>0</td><td>0</td><td>0</td><td>0</td><td>0</td><td>&hellip;</td><td>0</td><td>0</td><td>0</td><td>0</td><td>0</td><td>0</td><td>0</td><td>0</td><td>0</td><td>0</td><td>0</td><td>0</td><td>0</td><td>0</td><td>0</td><td>0</td><td>0</td><td>0</td><td>0</td><td>0</td><td>0</td><td>0</td><td>0</td><td>0</td><td>0</td><td>0</td><td>0</td><td>0</td><td>0</td><td>0</td><td>0</td><td>0</td><td>0</td><td>0</td><td>0</td><td>0</td><td>0</td></tr><tr><td>0</td><td>0</td><td>0</td><td>0</td><td>0</td><td>0</td><td>0</td><td>0</td><td>0</td><td>0</td><td>0</td><td>0</td><td>0</td><td>0</td><td>0</td><td>0</td><td>0</td><td>0</td><td>0</td><td>0</td><td>0</td><td>0</td><td>0</td><td>0</td><td>0</td><td>0</td><td>0</td><td>0</td><td>0</td><td>0</td><td>0</td><td>0</td><td>0</td><td>0</td><td>0</td><td>0</td><td>0</td><td>&hellip;</td><td>0</td><td>0</td><td>0</td><td>0</td><td>0</td><td>0</td><td>0</td><td>0</td><td>0</td><td>0</td><td>0</td><td>0</td><td>0</td><td>0</td><td>0</td><td>0</td><td>0</td><td>0</td><td>0</td><td>0</td><td>0</td><td>0</td><td>0</td><td>0</td><td>0</td><td>0</td><td>0</td><td>0</td><td>0</td><td>0</td><td>0</td><td>0</td><td>0</td><td>0</td><td>0</td><td>0</td><td>0</td></tr></tbody></table></div>"
      ],
      "text/plain": [
       "shape: (5, 785)\n",
       "┌───────┬────────┬────────┬────────┬───┬──────────┬──────────┬──────────┬──────────┐\n",
       "│ label ┆ pixel0 ┆ pixel1 ┆ pixel2 ┆ … ┆ pixel780 ┆ pixel781 ┆ pixel782 ┆ pixel783 │\n",
       "│ ---   ┆ ---    ┆ ---    ┆ ---    ┆   ┆ ---      ┆ ---      ┆ ---      ┆ ---      │\n",
       "│ i64   ┆ i64    ┆ i64    ┆ i64    ┆   ┆ i64      ┆ i64      ┆ i64      ┆ i64      │\n",
       "╞═══════╪════════╪════════╪════════╪═══╪══════════╪══════════╪══════════╪══════════╡\n",
       "│ 1     ┆ 0      ┆ 0      ┆ 0      ┆ … ┆ 0        ┆ 0        ┆ 0        ┆ 0        │\n",
       "│ 0     ┆ 0      ┆ 0      ┆ 0      ┆ … ┆ 0        ┆ 0        ┆ 0        ┆ 0        │\n",
       "│ 1     ┆ 0      ┆ 0      ┆ 0      ┆ … ┆ 0        ┆ 0        ┆ 0        ┆ 0        │\n",
       "│ 4     ┆ 0      ┆ 0      ┆ 0      ┆ … ┆ 0        ┆ 0        ┆ 0        ┆ 0        │\n",
       "│ 0     ┆ 0      ┆ 0      ┆ 0      ┆ … ┆ 0        ┆ 0        ┆ 0        ┆ 0        │\n",
       "└───────┴────────┴────────┴────────┴───┴──────────┴──────────┴──────────┴──────────┘"
      ]
     },
     "execution_count": 7,
     "metadata": {},
     "output_type": "execute_result"
    }
   ],
   "source": [
    "data = pl.read_csv(\"train.csv\")\n",
    "data.head()"
   ]
  },
  {
   "cell_type": "code",
   "execution_count": 8,
   "metadata": {},
   "outputs": [
    {
     "data": {
      "text/plain": [
       "array([1, 0, 1, ..., 7, 6, 9])"
      ]
     },
     "execution_count": 8,
     "metadata": {},
     "output_type": "execute_result"
    }
   ],
   "source": [
    "y_train = np.array(data.drop_in_place(\"label\"))\n",
    "y_train"
   ]
  },
  {
   "cell_type": "code",
   "execution_count": 9,
   "metadata": {},
   "outputs": [
    {
     "data": {
      "text/plain": [
       "784"
      ]
     },
     "execution_count": 9,
     "metadata": {},
     "output_type": "execute_result"
    }
   ],
   "source": [
    "x_train = np.array([row for row in data.rows()]) / 255\n",
    "len(x_train[0])"
   ]
  },
  {
   "cell_type": "code",
   "execution_count": 10,
   "metadata": {},
   "outputs": [
    {
     "data": {
      "text/plain": [
       "array([[-1,  1, -1, ..., -1, -1, -1],\n",
       "       [ 1, -1, -1, ..., -1, -1, -1],\n",
       "       [-1,  1, -1, ..., -1, -1, -1],\n",
       "       ...,\n",
       "       [-1, -1, -1, ...,  1, -1, -1],\n",
       "       [-1, -1, -1, ..., -1, -1, -1],\n",
       "       [-1, -1, -1, ..., -1, -1,  1]])"
      ]
     },
     "execution_count": 10,
     "metadata": {},
     "output_type": "execute_result"
    }
   ],
   "source": [
    "y_train[243]\n",
    "\n",
    "def number_to_neurons(n):\n",
    "    res = [-1] * 10\n",
    "    res[n] = 1\n",
    "    return res\n",
    "\n",
    "y_train = np.array([number_to_neurons(y) for y in y_train])\n",
    "y_train"
   ]
  },
  {
   "cell_type": "code",
   "execution_count": 17,
   "metadata": {},
   "outputs": [
    {
     "data": {
      "application/vnd.jupyter.widget-view+json": {
       "model_id": "b70a58125ff24f919c0aa20643880843",
       "version_major": 2,
       "version_minor": 0
      },
      "text/plain": [
       "Output()"
      ]
     },
     "metadata": {},
     "output_type": "display_data"
    },
    {
     "data": {
      "text/html": [
       "<pre style=\"white-space:pre;overflow-x:auto;line-height:normal;font-family:Menlo,'DejaVu Sans Mono',consolas,'Courier New',monospace\">MSE: 3.0936188268200424\n",
       "</pre>\n"
      ],
      "text/plain": [
       "MSE: 3.0936188268200424\n"
      ]
     },
     "metadata": {},
     "output_type": "display_data"
    },
    {
     "data": {
      "text/html": [
       "<pre style=\"white-space:pre;overflow-x:auto;line-height:normal;font-family:Menlo,'DejaVu Sans Mono',consolas,'Courier New',monospace\">MSE: 0.2176520370408117\n",
       "</pre>\n"
      ],
      "text/plain": [
       "MSE: 0.2176520370408117\n"
      ]
     },
     "metadata": {},
     "output_type": "display_data"
    },
    {
     "data": {
      "text/html": [
       "<pre style=\"white-space:pre;overflow-x:auto;line-height:normal;font-family:Menlo,'DejaVu Sans Mono',consolas,'Courier New',monospace\">MSE: 0.20016953732195908\n",
       "</pre>\n"
      ],
      "text/plain": [
       "MSE: 0.20016953732195908\n"
      ]
     },
     "metadata": {},
     "output_type": "display_data"
    },
    {
     "data": {
      "text/html": [
       "<pre style=\"white-space:pre;overflow-x:auto;line-height:normal;font-family:Menlo,'DejaVu Sans Mono',consolas,'Courier New',monospace\">MSE: 0.20059306675314914\n",
       "</pre>\n"
      ],
      "text/plain": [
       "MSE: 0.20059306675314914\n"
      ]
     },
     "metadata": {},
     "output_type": "display_data"
    },
    {
     "data": {
      "text/html": [
       "<pre style=\"white-space:pre;overflow-x:auto;line-height:normal;font-family:Menlo,'DejaVu Sans Mono',consolas,'Courier New',monospace\">MSE: 0.1909014718407111\n",
       "</pre>\n"
      ],
      "text/plain": [
       "MSE: 0.1909014718407111\n"
      ]
     },
     "metadata": {},
     "output_type": "display_data"
    },
    {
     "data": {
      "text/html": [
       "<pre style=\"white-space:pre;overflow-x:auto;line-height:normal;font-family:Menlo,'DejaVu Sans Mono',consolas,'Courier New',monospace\">MSE: 0.18131161828204145\n",
       "</pre>\n"
      ],
      "text/plain": [
       "MSE: 0.18131161828204145\n"
      ]
     },
     "metadata": {},
     "output_type": "display_data"
    },
    {
     "data": {
      "text/html": [
       "<pre style=\"white-space:pre;overflow-x:auto;line-height:normal;font-family:Menlo,'DejaVu Sans Mono',consolas,'Courier New',monospace\">MSE: 0.22493957330934014\n",
       "</pre>\n"
      ],
      "text/plain": [
       "MSE: 0.22493957330934014\n"
      ]
     },
     "metadata": {},
     "output_type": "display_data"
    },
    {
     "data": {
      "text/html": [
       "<pre style=\"white-space:pre;overflow-x:auto;line-height:normal;font-family:Menlo,'DejaVu Sans Mono',consolas,'Courier New',monospace\">MSE: 0.2017893523413544\n",
       "</pre>\n"
      ],
      "text/plain": [
       "MSE: 0.2017893523413544\n"
      ]
     },
     "metadata": {},
     "output_type": "display_data"
    },
    {
     "data": {
      "text/html": [
       "<pre style=\"white-space:pre;overflow-x:auto;line-height:normal;font-family:Menlo,'DejaVu Sans Mono',consolas,'Courier New',monospace\">MSE: 0.1677232399752238\n",
       "</pre>\n"
      ],
      "text/plain": [
       "MSE: 0.1677232399752238\n"
      ]
     },
     "metadata": {},
     "output_type": "display_data"
    },
    {
     "data": {
      "text/html": [
       "<pre style=\"white-space:pre;overflow-x:auto;line-height:normal;font-family:Menlo,'DejaVu Sans Mono',consolas,'Courier New',monospace\">MSE: 0.16467794706433536\n",
       "</pre>\n"
      ],
      "text/plain": [
       "MSE: 0.16467794706433536\n"
      ]
     },
     "metadata": {},
     "output_type": "display_data"
    },
    {
     "data": {
      "text/html": [
       "<pre style=\"white-space:pre;overflow-x:auto;line-height:normal;font-family:Menlo,'DejaVu Sans Mono',consolas,'Courier New',monospace\">MSE: 0.16796464247731377\n",
       "</pre>\n"
      ],
      "text/plain": [
       "MSE: 0.16796464247731377\n"
      ]
     },
     "metadata": {},
     "output_type": "display_data"
    },
    {
     "data": {
      "text/html": [
       "<pre style=\"white-space:pre;overflow-x:auto;line-height:normal;font-family:Menlo,'DejaVu Sans Mono',consolas,'Courier New',monospace\">MSE: 0.16787110865800103\n",
       "</pre>\n"
      ],
      "text/plain": [
       "MSE: 0.16787110865800103\n"
      ]
     },
     "metadata": {},
     "output_type": "display_data"
    },
    {
     "data": {
      "text/html": [
       "<pre style=\"white-space:pre;overflow-x:auto;line-height:normal;font-family:Menlo,'DejaVu Sans Mono',consolas,'Courier New',monospace\">MSE: 0.1683874968293604\n",
       "</pre>\n"
      ],
      "text/plain": [
       "MSE: 0.1683874968293604\n"
      ]
     },
     "metadata": {},
     "output_type": "display_data"
    },
    {
     "data": {
      "text/html": [
       "<pre style=\"white-space:pre;overflow-x:auto;line-height:normal;font-family:Menlo,'DejaVu Sans Mono',consolas,'Courier New',monospace\">MSE: 0.17258756234478398\n",
       "</pre>\n"
      ],
      "text/plain": [
       "MSE: 0.17258756234478398\n"
      ]
     },
     "metadata": {},
     "output_type": "display_data"
    },
    {
     "data": {
      "text/html": [
       "<pre style=\"white-space:pre;overflow-x:auto;line-height:normal;font-family:Menlo,'DejaVu Sans Mono',consolas,'Courier New',monospace\">MSE: 0.17071096861997054\n",
       "</pre>\n"
      ],
      "text/plain": [
       "MSE: 0.17071096861997054\n"
      ]
     },
     "metadata": {},
     "output_type": "display_data"
    },
    {
     "data": {
      "text/html": [
       "<pre style=\"white-space:pre;overflow-x:auto;line-height:normal;font-family:Menlo,'DejaVu Sans Mono',consolas,'Courier New',monospace\">MSE: 0.1642665548375541\n",
       "</pre>\n"
      ],
      "text/plain": [
       "MSE: 0.1642665548375541\n"
      ]
     },
     "metadata": {},
     "output_type": "display_data"
    },
    {
     "data": {
      "text/html": [
       "<pre style=\"white-space:pre;overflow-x:auto;line-height:normal;font-family:Menlo,'DejaVu Sans Mono',consolas,'Courier New',monospace\">MSE: 0.16424013754302774\n",
       "</pre>\n"
      ],
      "text/plain": [
       "MSE: 0.16424013754302774\n"
      ]
     },
     "metadata": {},
     "output_type": "display_data"
    },
    {
     "data": {
      "text/html": [
       "<pre style=\"white-space:pre;overflow-x:auto;line-height:normal;font-family:Menlo,'DejaVu Sans Mono',consolas,'Courier New',monospace\">MSE: 0.1607925189132168\n",
       "</pre>\n"
      ],
      "text/plain": [
       "MSE: 0.1607925189132168\n"
      ]
     },
     "metadata": {},
     "output_type": "display_data"
    },
    {
     "data": {
      "text/html": [
       "<pre style=\"white-space:pre;overflow-x:auto;line-height:normal;font-family:Menlo,'DejaVu Sans Mono',consolas,'Courier New',monospace\">MSE: 0.1607474536646079\n",
       "</pre>\n"
      ],
      "text/plain": [
       "MSE: 0.1607474536646079\n"
      ]
     },
     "metadata": {},
     "output_type": "display_data"
    },
    {
     "data": {
      "text/html": [
       "<pre style=\"white-space:pre;overflow-x:auto;line-height:normal;font-family:Menlo,'DejaVu Sans Mono',consolas,'Courier New',monospace\">MSE: 0.16072981750381599\n",
       "</pre>\n"
      ],
      "text/plain": [
       "MSE: 0.16072981750381599\n"
      ]
     },
     "metadata": {},
     "output_type": "display_data"
    },
    {
     "data": {
      "text/html": [
       "<pre style=\"white-space:pre;overflow-x:auto;line-height:normal;font-family:Menlo,'DejaVu Sans Mono',consolas,'Courier New',monospace\"></pre>\n"
      ],
      "text/plain": []
     },
     "metadata": {},
     "output_type": "display_data"
    },
    {
     "data": {
      "text/html": [
       "<pre style=\"white-space:pre;overflow-x:auto;line-height:normal;font-family:Menlo,'DejaVu Sans Mono',consolas,'Courier New',monospace\">\n",
       "</pre>\n"
      ],
      "text/plain": [
       "\n"
      ]
     },
     "metadata": {},
     "output_type": "display_data"
    }
   ],
   "source": [
    "rede = NeuralNetwork(\n",
    "    Layer(len_inputs=784, neurons=10, function=Tanh()),\n",
    "    Layer(len_inputs=10, neurons=10, function=Tanh()),\n",
    ")\n",
    "rede.fit(x_train[:1000], y_train[:1000])"
   ]
  },
  {
   "cell_type": "code",
   "execution_count": 16,
   "metadata": {},
   "outputs": [
    {
     "data": {
      "text/plain": [
       "array([[0., 0., 0., ..., 0., 0., 0.],\n",
       "       [0., 0., 0., ..., 0., 0., 0.],\n",
       "       [0., 0., 0., ..., 0., 0., 0.],\n",
       "       ...,\n",
       "       [0., 0., 0., ..., 0., 0., 0.],\n",
       "       [0., 0., 0., ..., 0., 0., 0.],\n",
       "       [0., 0., 0., ..., 0., 0., 0.]])"
      ]
     },
     "execution_count": 16,
     "metadata": {},
     "output_type": "execute_result"
    }
   ],
   "source": [
    "x_train[0:10]"
   ]
  },
  {
   "cell_type": "code",
   "execution_count": 31,
   "metadata": {},
   "outputs": [
    {
     "data": {
      "text/plain": [
       "4"
      ]
     },
     "execution_count": 31,
     "metadata": {},
     "output_type": "execute_result"
    }
   ],
   "source": [
    "np.argmax(y_train[145])"
   ]
  },
  {
   "cell_type": "code",
   "execution_count": 32,
   "metadata": {},
   "outputs": [
    {
     "data": {
      "text/plain": [
       "4"
      ]
     },
     "execution_count": 32,
     "metadata": {},
     "output_type": "execute_result"
    }
   ],
   "source": [
    "np.argmax(rede.predict(x_train[145]))"
   ]
  },
  {
   "cell_type": "code",
   "execution_count": 48,
   "metadata": {},
   "outputs": [],
   "source": [
    "total = 42000\n",
    "points = 0\n",
    "for idx in range(1000,total):\n",
    "    correct = np.argmax(y_train[idx])\n",
    "    predict = np.argmax(rede.predict(x_train[idx]))\n",
    "    if correct == predict:\n",
    "        points += 1\n"
   ]
  },
  {
   "cell_type": "code",
   "execution_count": 50,
   "metadata": {},
   "outputs": [
    {
     "data": {
      "text/plain": [
       "79.31428571428572"
      ]
     },
     "execution_count": 50,
     "metadata": {},
     "output_type": "execute_result"
    }
   ],
   "source": [
    "points/total * 100"
   ]
  },
  {
   "cell_type": "code",
   "execution_count": 57,
   "metadata": {},
   "outputs": [
    {
     "name": "stdout",
     "output_type": "stream",
     "text": [
      "Running on local URL:  http://127.0.0.1:7866\n",
      "Running on public URL: https://1ad72f454f7daffb2a.gradio.live\n",
      "\n",
      "This share link expires in 72 hours. For free permanent hosting and GPU upgrades (NEW!), check out Spaces: https://huggingface.co/spaces\n"
     ]
    },
    {
     "data": {
      "text/html": [
       "<div><iframe src=\"https://1ad72f454f7daffb2a.gradio.live\" width=\"100%\" height=\"500\" allow=\"autoplay; camera; microphone; clipboard-read; clipboard-write;\" frameborder=\"0\" allowfullscreen></iframe></div>"
      ],
      "text/plain": [
       "<IPython.core.display.HTML object>"
      ]
     },
     "metadata": {},
     "output_type": "display_data"
    },
    {
     "data": {
      "text/plain": []
     },
     "execution_count": 57,
     "metadata": {},
     "output_type": "execute_result"
    }
   ],
   "source": [
    "def predizer_garrancho(garrancho):\n",
    "    if garrancho is not None:\n",
    "        x = garrancho.reshape(1, 784) / 255\n",
    "        return np.argmax(rede.predict(x))\n",
    "\n",
    "\n",
    "\n",
    "\n",
    "import gradio as gr\n",
    "\n",
    "gr.Interface(fn=predizer_garrancho, \n",
    "             inputs=\"sketchpad\",\n",
    "             outputs=\"textbox\",\n",
    "             live=True).launch(share=True)"
   ]
  },
  {
   "cell_type": "code",
   "execution_count": null,
   "metadata": {},
   "outputs": [],
   "source": []
  }
 ],
 "metadata": {
  "kernelspec": {
   "display_name": "Python 3",
   "language": "python",
   "name": "python3"
  },
  "language_info": {
   "codemirror_mode": {
    "name": "ipython",
    "version": 3
   },
   "file_extension": ".py",
   "mimetype": "text/x-python",
   "name": "python",
   "nbconvert_exporter": "python",
   "pygments_lexer": "ipython3",
   "version": "3.11.3"
  },
  "orig_nbformat": 4
 },
 "nbformat": 4,
 "nbformat_minor": 2
}
