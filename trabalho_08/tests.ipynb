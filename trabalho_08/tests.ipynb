{
 "cells": [
  {
   "cell_type": "code",
   "execution_count": 50,
   "metadata": {},
   "outputs": [],
   "source": [
    "\n",
    "import numpy as np\n",
    "from rich.progress import track\n",
    "\n",
    "class Tanh:\n",
    "    def activate(self, x):\n",
    "        return np.tanh(x)\n",
    "    \n",
    "    def derivative(self, x):\n",
    "        return 1 - self.activate(x) ** 2\n",
    "\n",
    "\n",
    "class Layer:\n",
    "    def __init__(self, len_inputs, neurons, function, last=False):\n",
    "        shape = neurons, len_inputs + 1\n",
    "        self.weights = np.random.uniform(-0.5, 0.5, size=shape)\n",
    "        self.f = function\n",
    "        self.last = last\n",
    "        self.idx = None\n",
    "        self.neurons = neurons\n",
    "        self.len_inputs = len_inputs\n",
    "    \n",
    "    def forward(self, layer_input):\n",
    "        self.input = layer_input\n",
    "        self.net = self.input.dot(self.weights.T)\n",
    "        self.output = self.f.activate(self.net)\n",
    "        return self.output\n",
    "    \n",
    "    def backward(self, target, alpha, previous_delta=None, previous_weigth=None):\n",
    "        if self.last:\n",
    "            self.delta = (target - self.output) * self.f.derivative(self.net)\n",
    "        else:\n",
    "            self.delta = (np.delete(previous_delta.dot(previous_weigth).T, 0) * self.f.derivative(self.net))\n",
    "        \n",
    "        self.weights += np.array([self.delta]).T * np.array([self.input]) * alpha\n",
    "        \n",
    "        return self.delta, self.weights\n",
    "        \n",
    "        \n",
    "        \n",
    "        \n",
    "    def __repr__(self):\n",
    "        return f\"({self.idx}º Layer, Neurons: {self.neurons}, Last: {self.last})\"\n",
    "\n",
    "\n",
    "class NeuralNetwork:\n",
    "    def __init__(self, *layers: Layer):\n",
    "        self.layers = list(layers)\n",
    "        for idx, layer in enumerate(self.layers):\n",
    "            layer.idx = idx + 1\n",
    "        self.layers[-1].last = True\n",
    "        self.len_inputs = self.layers[0].len_inputs\n",
    "        \n",
    "    def __repr__(self):\n",
    "        return f\"NeuralNetwork (Num_Layers: {len(self.layers)}, Len_Inputs: {self.len_inputs}, Layers: {self.layers})\"\n",
    "    \n",
    "    @property\n",
    "    def weights(self):\n",
    "        resp = []\n",
    "        for idx, layer in enumerate(self.layers):\n",
    "            resp.append((idx+1, layer.weights))\n",
    "        return resp\n",
    "        \n",
    "    def _forward(self, x_input):\n",
    "        #input_layer = x_input\n",
    "        input_layer = np.append(1, x_input)\n",
    "        for layer in self.layers:\n",
    "            out_layer = layer.forward(input_layer)\n",
    "            input_layer = np.append(1, out_layer)\n",
    "            \n",
    "        return out_layer\n",
    "    \n",
    "    def _backward(self, y, alpha):\n",
    "        for layer in reversed(self.layers):\n",
    "            if layer.last:\n",
    "                previous_delta, previous_weigth = layer.backward(y, alpha)\n",
    "            else:\n",
    "                previous_delta, previous_weigth = layer.backward(y, alpha, previous_delta, previous_weigth)\n",
    "    \n",
    "    def fit(self, x_train, y_train, epochs=2000, alpha=0.05):\n",
    "\n",
    "        for epoch in track(range(epochs), description=\"Processing...\"):\n",
    "            outputs = []\n",
    "            for x, y in zip(x_train, y_train):\n",
    "                out = self._forward(x)\n",
    "                self._backward(y, alpha)\n",
    "                outputs.append(out)\n",
    "                \n",
    "            errors = np.array([sum(error) for error in (y_train - outputs) ** 2])\n",
    "            self.mean_squared_error = sum(errors) / len(errors)\n",
    "            \n",
    "            if not epoch % 100:\n",
    "                print(f\"MSE: {self.mean_squared_error}\")\n",
    "                \n",
    "                \n",
    "    def predict(self, x):\n",
    "        out = self._forward(x)\n",
    "        return out\n",
    "\n"
   ]
  },
  {
   "cell_type": "code",
   "execution_count": 5,
   "metadata": {},
   "outputs": [],
   "source": [
    "from rich.traceback import install; install();"
   ]
  },
  {
   "cell_type": "code",
   "execution_count": 51,
   "metadata": {},
   "outputs": [
    {
     "data": {
      "application/vnd.jupyter.widget-view+json": {
       "model_id": "d58ec0ef465744a480965060c1ab67bf",
       "version_major": 2,
       "version_minor": 0
      },
      "text/plain": [
       "Output()"
      ]
     },
     "metadata": {},
     "output_type": "display_data"
    },
    {
     "data": {
      "text/html": [
       "<pre style=\"white-space:pre;overflow-x:auto;line-height:normal;font-family:Menlo,'DejaVu Sans Mono',consolas,'Courier New',monospace\">MSE: 0.6458264571149889\n",
       "</pre>\n"
      ],
      "text/plain": [
       "MSE: 0.6458264571149889\n"
      ]
     },
     "metadata": {},
     "output_type": "display_data"
    },
    {
     "data": {
      "text/html": [
       "<pre style=\"white-space:pre;overflow-x:auto;line-height:normal;font-family:Menlo,'DejaVu Sans Mono',consolas,'Courier New',monospace\">MSE: 0.5693647626230658\n",
       "</pre>\n"
      ],
      "text/plain": [
       "MSE: 0.5693647626230658\n"
      ]
     },
     "metadata": {},
     "output_type": "display_data"
    },
    {
     "data": {
      "text/html": [
       "<pre style=\"white-space:pre;overflow-x:auto;line-height:normal;font-family:Menlo,'DejaVu Sans Mono',consolas,'Courier New',monospace\">MSE: 0.4419293363527101\n",
       "</pre>\n"
      ],
      "text/plain": [
       "MSE: 0.4419293363527101\n"
      ]
     },
     "metadata": {},
     "output_type": "display_data"
    },
    {
     "data": {
      "text/html": [
       "<pre style=\"white-space:pre;overflow-x:auto;line-height:normal;font-family:Menlo,'DejaVu Sans Mono',consolas,'Courier New',monospace\">MSE: 0.11514033363026721\n",
       "</pre>\n"
      ],
      "text/plain": [
       "MSE: 0.11514033363026721\n"
      ]
     },
     "metadata": {},
     "output_type": "display_data"
    },
    {
     "data": {
      "text/html": [
       "<pre style=\"white-space:pre;overflow-x:auto;line-height:normal;font-family:Menlo,'DejaVu Sans Mono',consolas,'Courier New',monospace\">MSE: 0.01502482653435927\n",
       "</pre>\n"
      ],
      "text/plain": [
       "MSE: 0.01502482653435927\n"
      ]
     },
     "metadata": {},
     "output_type": "display_data"
    },
    {
     "data": {
      "text/html": [
       "<pre style=\"white-space:pre;overflow-x:auto;line-height:normal;font-family:Menlo,'DejaVu Sans Mono',consolas,'Courier New',monospace\">MSE: 0.012754157110618903\n",
       "</pre>\n"
      ],
      "text/plain": [
       "MSE: 0.012754157110618903\n"
      ]
     },
     "metadata": {},
     "output_type": "display_data"
    },
    {
     "data": {
      "text/html": [
       "<pre style=\"white-space:pre;overflow-x:auto;line-height:normal;font-family:Menlo,'DejaVu Sans Mono',consolas,'Courier New',monospace\">MSE: 0.01194999880439513\n",
       "</pre>\n"
      ],
      "text/plain": [
       "MSE: 0.01194999880439513\n"
      ]
     },
     "metadata": {},
     "output_type": "display_data"
    },
    {
     "data": {
      "text/html": [
       "<pre style=\"white-space:pre;overflow-x:auto;line-height:normal;font-family:Menlo,'DejaVu Sans Mono',consolas,'Courier New',monospace\">MSE: 0.011232782537928502\n",
       "</pre>\n"
      ],
      "text/plain": [
       "MSE: 0.011232782537928502\n"
      ]
     },
     "metadata": {},
     "output_type": "display_data"
    },
    {
     "data": {
      "text/html": [
       "<pre style=\"white-space:pre;overflow-x:auto;line-height:normal;font-family:Menlo,'DejaVu Sans Mono',consolas,'Courier New',monospace\">MSE: 0.01058168053786955\n",
       "</pre>\n"
      ],
      "text/plain": [
       "MSE: 0.01058168053786955\n"
      ]
     },
     "metadata": {},
     "output_type": "display_data"
    },
    {
     "data": {
      "text/html": [
       "<pre style=\"white-space:pre;overflow-x:auto;line-height:normal;font-family:Menlo,'DejaVu Sans Mono',consolas,'Courier New',monospace\">MSE: 0.009989601249630173\n",
       "</pre>\n"
      ],
      "text/plain": [
       "MSE: 0.009989601249630173\n"
      ]
     },
     "metadata": {},
     "output_type": "display_data"
    },
    {
     "data": {
      "text/html": [
       "<pre style=\"white-space:pre;overflow-x:auto;line-height:normal;font-family:Menlo,'DejaVu Sans Mono',consolas,'Courier New',monospace\">MSE: 0.009450419221219686\n",
       "</pre>\n"
      ],
      "text/plain": [
       "MSE: 0.009450419221219686\n"
      ]
     },
     "metadata": {},
     "output_type": "display_data"
    },
    {
     "data": {
      "text/html": [
       "<pre style=\"white-space:pre;overflow-x:auto;line-height:normal;font-family:Menlo,'DejaVu Sans Mono',consolas,'Courier New',monospace\">MSE: 0.008958569925985987\n",
       "</pre>\n"
      ],
      "text/plain": [
       "MSE: 0.008958569925985987\n"
      ]
     },
     "metadata": {},
     "output_type": "display_data"
    },
    {
     "data": {
      "text/html": [
       "<pre style=\"white-space:pre;overflow-x:auto;line-height:normal;font-family:Menlo,'DejaVu Sans Mono',consolas,'Courier New',monospace\">MSE: 0.008509030854994777\n",
       "</pre>\n"
      ],
      "text/plain": [
       "MSE: 0.008509030854994777\n"
      ]
     },
     "metadata": {},
     "output_type": "display_data"
    },
    {
     "data": {
      "text/html": [
       "<pre style=\"white-space:pre;overflow-x:auto;line-height:normal;font-family:Menlo,'DejaVu Sans Mono',consolas,'Courier New',monospace\">MSE: 0.008097310604247924\n",
       "</pre>\n"
      ],
      "text/plain": [
       "MSE: 0.008097310604247924\n"
      ]
     },
     "metadata": {},
     "output_type": "display_data"
    },
    {
     "data": {
      "text/html": [
       "<pre style=\"white-space:pre;overflow-x:auto;line-height:normal;font-family:Menlo,'DejaVu Sans Mono',consolas,'Courier New',monospace\">MSE: 0.007719413701492401\n",
       "</pre>\n"
      ],
      "text/plain": [
       "MSE: 0.007719413701492401\n"
      ]
     },
     "metadata": {},
     "output_type": "display_data"
    },
    {
     "data": {
      "text/html": [
       "<pre style=\"white-space:pre;overflow-x:auto;line-height:normal;font-family:Menlo,'DejaVu Sans Mono',consolas,'Courier New',monospace\">MSE: 0.007371795445126286\n",
       "</pre>\n"
      ],
      "text/plain": [
       "MSE: 0.007371795445126286\n"
      ]
     },
     "metadata": {},
     "output_type": "display_data"
    },
    {
     "data": {
      "text/html": [
       "<pre style=\"white-space:pre;overflow-x:auto;line-height:normal;font-family:Menlo,'DejaVu Sans Mono',consolas,'Courier New',monospace\">MSE: 0.007051316043430535\n",
       "</pre>\n"
      ],
      "text/plain": [
       "MSE: 0.007051316043430535\n"
      ]
     },
     "metadata": {},
     "output_type": "display_data"
    },
    {
     "data": {
      "text/html": [
       "<pre style=\"white-space:pre;overflow-x:auto;line-height:normal;font-family:Menlo,'DejaVu Sans Mono',consolas,'Courier New',monospace\">MSE: 0.006755197599049355\n",
       "</pre>\n"
      ],
      "text/plain": [
       "MSE: 0.006755197599049355\n"
      ]
     },
     "metadata": {},
     "output_type": "display_data"
    },
    {
     "data": {
      "text/html": [
       "<pre style=\"white-space:pre;overflow-x:auto;line-height:normal;font-family:Menlo,'DejaVu Sans Mono',consolas,'Courier New',monospace\">MSE: 0.006480984834020118\n",
       "</pre>\n"
      ],
      "text/plain": [
       "MSE: 0.006480984834020118\n"
      ]
     },
     "metadata": {},
     "output_type": "display_data"
    },
    {
     "data": {
      "text/html": [
       "<pre style=\"white-space:pre;overflow-x:auto;line-height:normal;font-family:Menlo,'DejaVu Sans Mono',consolas,'Courier New',monospace\">MSE: 0.006226509510441771\n",
       "</pre>\n"
      ],
      "text/plain": [
       "MSE: 0.006226509510441771\n"
      ]
     },
     "metadata": {},
     "output_type": "display_data"
    },
    {
     "data": {
      "text/html": [
       "<pre style=\"white-space:pre;overflow-x:auto;line-height:normal;font-family:Menlo,'DejaVu Sans Mono',consolas,'Courier New',monospace\"></pre>\n"
      ],
      "text/plain": []
     },
     "metadata": {},
     "output_type": "display_data"
    },
    {
     "data": {
      "text/html": [
       "<pre style=\"white-space:pre;overflow-x:auto;line-height:normal;font-family:Menlo,'DejaVu Sans Mono',consolas,'Courier New',monospace\">\n",
       "</pre>\n"
      ],
      "text/plain": [
       "\n"
      ]
     },
     "metadata": {},
     "output_type": "display_data"
    }
   ],
   "source": [
    "x_train = [0, .1, .2, .3, .4, .5, .6, .7, .8, .9, 1.0]\n",
    "y_train = [-.9602, -.5770, -.0729, .3771, .6405, .6600, .4609, .1336, -.2013, -.4344, -.5000 ]\n",
    "x_train = np.array([[x, x] for x in x_train])\n",
    "y_train = np.array([[y, y] for y in y_train])\n",
    "\n",
    "\n",
    "rede = NeuralNetwork(\n",
    "    Layer(len_inputs=2, neurons=4, function=Tanh()),\n",
    "    Layer(len_inputs=4, neurons=2, function=Tanh()),\n",
    ")\n",
    "rede.fit(x_train, y_train)"
   ]
  },
  {
   "cell_type": "code",
   "execution_count": 52,
   "metadata": {},
   "outputs": [],
   "source": [
    "import polars as pl\n",
    "import matplotlib.pyplot as plt"
   ]
  },
  {
   "cell_type": "code",
   "execution_count": 53,
   "metadata": {},
   "outputs": [
    {
     "data": {
      "text/html": [
       "<div><style>\n",
       ".dataframe > thead > tr > th,\n",
       ".dataframe > tbody > tr > td {\n",
       "  text-align: right;\n",
       "}\n",
       "</style>\n",
       "<small>shape: (5, 785)</small><table border=\"1\" class=\"dataframe\"><thead><tr><th>label</th><th>pixel0</th><th>pixel1</th><th>pixel2</th><th>pixel3</th><th>pixel4</th><th>pixel5</th><th>pixel6</th><th>pixel7</th><th>pixel8</th><th>pixel9</th><th>pixel10</th><th>pixel11</th><th>pixel12</th><th>pixel13</th><th>pixel14</th><th>pixel15</th><th>pixel16</th><th>pixel17</th><th>pixel18</th><th>pixel19</th><th>pixel20</th><th>pixel21</th><th>pixel22</th><th>pixel23</th><th>pixel24</th><th>pixel25</th><th>pixel26</th><th>pixel27</th><th>pixel28</th><th>pixel29</th><th>pixel30</th><th>pixel31</th><th>pixel32</th><th>pixel33</th><th>pixel34</th><th>pixel35</th><th>&hellip;</th><th>pixel747</th><th>pixel748</th><th>pixel749</th><th>pixel750</th><th>pixel751</th><th>pixel752</th><th>pixel753</th><th>pixel754</th><th>pixel755</th><th>pixel756</th><th>pixel757</th><th>pixel758</th><th>pixel759</th><th>pixel760</th><th>pixel761</th><th>pixel762</th><th>pixel763</th><th>pixel764</th><th>pixel765</th><th>pixel766</th><th>pixel767</th><th>pixel768</th><th>pixel769</th><th>pixel770</th><th>pixel771</th><th>pixel772</th><th>pixel773</th><th>pixel774</th><th>pixel775</th><th>pixel776</th><th>pixel777</th><th>pixel778</th><th>pixel779</th><th>pixel780</th><th>pixel781</th><th>pixel782</th><th>pixel783</th></tr><tr><td>i64</td><td>i64</td><td>i64</td><td>i64</td><td>i64</td><td>i64</td><td>i64</td><td>i64</td><td>i64</td><td>i64</td><td>i64</td><td>i64</td><td>i64</td><td>i64</td><td>i64</td><td>i64</td><td>i64</td><td>i64</td><td>i64</td><td>i64</td><td>i64</td><td>i64</td><td>i64</td><td>i64</td><td>i64</td><td>i64</td><td>i64</td><td>i64</td><td>i64</td><td>i64</td><td>i64</td><td>i64</td><td>i64</td><td>i64</td><td>i64</td><td>i64</td><td>i64</td><td>&hellip;</td><td>i64</td><td>i64</td><td>i64</td><td>i64</td><td>i64</td><td>i64</td><td>i64</td><td>i64</td><td>i64</td><td>i64</td><td>i64</td><td>i64</td><td>i64</td><td>i64</td><td>i64</td><td>i64</td><td>i64</td><td>i64</td><td>i64</td><td>i64</td><td>i64</td><td>i64</td><td>i64</td><td>i64</td><td>i64</td><td>i64</td><td>i64</td><td>i64</td><td>i64</td><td>i64</td><td>i64</td><td>i64</td><td>i64</td><td>i64</td><td>i64</td><td>i64</td><td>i64</td></tr></thead><tbody><tr><td>1</td><td>0</td><td>0</td><td>0</td><td>0</td><td>0</td><td>0</td><td>0</td><td>0</td><td>0</td><td>0</td><td>0</td><td>0</td><td>0</td><td>0</td><td>0</td><td>0</td><td>0</td><td>0</td><td>0</td><td>0</td><td>0</td><td>0</td><td>0</td><td>0</td><td>0</td><td>0</td><td>0</td><td>0</td><td>0</td><td>0</td><td>0</td><td>0</td><td>0</td><td>0</td><td>0</td><td>0</td><td>&hellip;</td><td>0</td><td>0</td><td>0</td><td>0</td><td>0</td><td>0</td><td>0</td><td>0</td><td>0</td><td>0</td><td>0</td><td>0</td><td>0</td><td>0</td><td>0</td><td>0</td><td>0</td><td>0</td><td>0</td><td>0</td><td>0</td><td>0</td><td>0</td><td>0</td><td>0</td><td>0</td><td>0</td><td>0</td><td>0</td><td>0</td><td>0</td><td>0</td><td>0</td><td>0</td><td>0</td><td>0</td><td>0</td></tr><tr><td>0</td><td>0</td><td>0</td><td>0</td><td>0</td><td>0</td><td>0</td><td>0</td><td>0</td><td>0</td><td>0</td><td>0</td><td>0</td><td>0</td><td>0</td><td>0</td><td>0</td><td>0</td><td>0</td><td>0</td><td>0</td><td>0</td><td>0</td><td>0</td><td>0</td><td>0</td><td>0</td><td>0</td><td>0</td><td>0</td><td>0</td><td>0</td><td>0</td><td>0</td><td>0</td><td>0</td><td>0</td><td>&hellip;</td><td>0</td><td>0</td><td>0</td><td>0</td><td>0</td><td>0</td><td>0</td><td>0</td><td>0</td><td>0</td><td>0</td><td>0</td><td>0</td><td>0</td><td>0</td><td>0</td><td>0</td><td>0</td><td>0</td><td>0</td><td>0</td><td>0</td><td>0</td><td>0</td><td>0</td><td>0</td><td>0</td><td>0</td><td>0</td><td>0</td><td>0</td><td>0</td><td>0</td><td>0</td><td>0</td><td>0</td><td>0</td></tr><tr><td>1</td><td>0</td><td>0</td><td>0</td><td>0</td><td>0</td><td>0</td><td>0</td><td>0</td><td>0</td><td>0</td><td>0</td><td>0</td><td>0</td><td>0</td><td>0</td><td>0</td><td>0</td><td>0</td><td>0</td><td>0</td><td>0</td><td>0</td><td>0</td><td>0</td><td>0</td><td>0</td><td>0</td><td>0</td><td>0</td><td>0</td><td>0</td><td>0</td><td>0</td><td>0</td><td>0</td><td>0</td><td>&hellip;</td><td>0</td><td>0</td><td>0</td><td>0</td><td>0</td><td>0</td><td>0</td><td>0</td><td>0</td><td>0</td><td>0</td><td>0</td><td>0</td><td>0</td><td>0</td><td>0</td><td>0</td><td>0</td><td>0</td><td>0</td><td>0</td><td>0</td><td>0</td><td>0</td><td>0</td><td>0</td><td>0</td><td>0</td><td>0</td><td>0</td><td>0</td><td>0</td><td>0</td><td>0</td><td>0</td><td>0</td><td>0</td></tr><tr><td>4</td><td>0</td><td>0</td><td>0</td><td>0</td><td>0</td><td>0</td><td>0</td><td>0</td><td>0</td><td>0</td><td>0</td><td>0</td><td>0</td><td>0</td><td>0</td><td>0</td><td>0</td><td>0</td><td>0</td><td>0</td><td>0</td><td>0</td><td>0</td><td>0</td><td>0</td><td>0</td><td>0</td><td>0</td><td>0</td><td>0</td><td>0</td><td>0</td><td>0</td><td>0</td><td>0</td><td>0</td><td>&hellip;</td><td>0</td><td>0</td><td>0</td><td>0</td><td>0</td><td>0</td><td>0</td><td>0</td><td>0</td><td>0</td><td>0</td><td>0</td><td>0</td><td>0</td><td>0</td><td>0</td><td>0</td><td>0</td><td>0</td><td>0</td><td>0</td><td>0</td><td>0</td><td>0</td><td>0</td><td>0</td><td>0</td><td>0</td><td>0</td><td>0</td><td>0</td><td>0</td><td>0</td><td>0</td><td>0</td><td>0</td><td>0</td></tr><tr><td>0</td><td>0</td><td>0</td><td>0</td><td>0</td><td>0</td><td>0</td><td>0</td><td>0</td><td>0</td><td>0</td><td>0</td><td>0</td><td>0</td><td>0</td><td>0</td><td>0</td><td>0</td><td>0</td><td>0</td><td>0</td><td>0</td><td>0</td><td>0</td><td>0</td><td>0</td><td>0</td><td>0</td><td>0</td><td>0</td><td>0</td><td>0</td><td>0</td><td>0</td><td>0</td><td>0</td><td>0</td><td>&hellip;</td><td>0</td><td>0</td><td>0</td><td>0</td><td>0</td><td>0</td><td>0</td><td>0</td><td>0</td><td>0</td><td>0</td><td>0</td><td>0</td><td>0</td><td>0</td><td>0</td><td>0</td><td>0</td><td>0</td><td>0</td><td>0</td><td>0</td><td>0</td><td>0</td><td>0</td><td>0</td><td>0</td><td>0</td><td>0</td><td>0</td><td>0</td><td>0</td><td>0</td><td>0</td><td>0</td><td>0</td><td>0</td></tr></tbody></table></div>"
      ],
      "text/plain": [
       "shape: (5, 785)\n",
       "┌───────┬────────┬────────┬────────┬───┬──────────┬──────────┬──────────┬──────────┐\n",
       "│ label ┆ pixel0 ┆ pixel1 ┆ pixel2 ┆ … ┆ pixel780 ┆ pixel781 ┆ pixel782 ┆ pixel783 │\n",
       "│ ---   ┆ ---    ┆ ---    ┆ ---    ┆   ┆ ---      ┆ ---      ┆ ---      ┆ ---      │\n",
       "│ i64   ┆ i64    ┆ i64    ┆ i64    ┆   ┆ i64      ┆ i64      ┆ i64      ┆ i64      │\n",
       "╞═══════╪════════╪════════╪════════╪═══╪══════════╪══════════╪══════════╪══════════╡\n",
       "│ 1     ┆ 0      ┆ 0      ┆ 0      ┆ … ┆ 0        ┆ 0        ┆ 0        ┆ 0        │\n",
       "│ 0     ┆ 0      ┆ 0      ┆ 0      ┆ … ┆ 0        ┆ 0        ┆ 0        ┆ 0        │\n",
       "│ 1     ┆ 0      ┆ 0      ┆ 0      ┆ … ┆ 0        ┆ 0        ┆ 0        ┆ 0        │\n",
       "│ 4     ┆ 0      ┆ 0      ┆ 0      ┆ … ┆ 0        ┆ 0        ┆ 0        ┆ 0        │\n",
       "│ 0     ┆ 0      ┆ 0      ┆ 0      ┆ … ┆ 0        ┆ 0        ┆ 0        ┆ 0        │\n",
       "└───────┴────────┴────────┴────────┴───┴──────────┴──────────┴──────────┴──────────┘"
      ]
     },
     "execution_count": 53,
     "metadata": {},
     "output_type": "execute_result"
    }
   ],
   "source": [
    "data = pl.read_csv(\"train.csv\")\n",
    "data.head()"
   ]
  },
  {
   "cell_type": "code",
   "execution_count": 54,
   "metadata": {},
   "outputs": [
    {
     "data": {
      "text/plain": [
       "array([1, 0, 1, ..., 7, 6, 9])"
      ]
     },
     "execution_count": 54,
     "metadata": {},
     "output_type": "execute_result"
    }
   ],
   "source": [
    "y_train = np.array(data.drop_in_place(\"label\"))\n",
    "y_train"
   ]
  },
  {
   "cell_type": "code",
   "execution_count": 55,
   "metadata": {},
   "outputs": [
    {
     "data": {
      "text/plain": [
       "784"
      ]
     },
     "execution_count": 55,
     "metadata": {},
     "output_type": "execute_result"
    }
   ],
   "source": [
    "x_train = np.array([row for row in data.rows()]) / 255\n",
    "len(x_train[0])"
   ]
  },
  {
   "cell_type": "code",
   "execution_count": 56,
   "metadata": {},
   "outputs": [
    {
     "data": {
      "text/plain": [
       "array([[-1,  1, -1, ..., -1, -1, -1],\n",
       "       [ 1, -1, -1, ..., -1, -1, -1],\n",
       "       [-1,  1, -1, ..., -1, -1, -1],\n",
       "       ...,\n",
       "       [-1, -1, -1, ...,  1, -1, -1],\n",
       "       [-1, -1, -1, ..., -1, -1, -1],\n",
       "       [-1, -1, -1, ..., -1, -1,  1]])"
      ]
     },
     "execution_count": 56,
     "metadata": {},
     "output_type": "execute_result"
    }
   ],
   "source": [
    "y_train[243]\n",
    "\n",
    "def number_to_neurons(n):\n",
    "    res = [-1] * 10\n",
    "    res[n] = 1\n",
    "    return res\n",
    "\n",
    "y_train = np.array([number_to_neurons(y) for y in y_train])\n",
    "y_train"
   ]
  },
  {
   "cell_type": "code",
   "execution_count": 86,
   "metadata": {},
   "outputs": [
    {
     "data": {
      "application/vnd.jupyter.widget-view+json": {
       "model_id": "07485ed3d726443f96992ca952e3f491",
       "version_major": 2,
       "version_minor": 0
      },
      "text/plain": [
       "Output()"
      ]
     },
     "metadata": {},
     "output_type": "display_data"
    },
    {
     "data": {
      "text/html": [
       "<pre style=\"white-space:pre;overflow-x:auto;line-height:normal;font-family:Menlo,'DejaVu Sans Mono',consolas,'Courier New',monospace\">MSE: 3.2711047692657083\n",
       "</pre>\n"
      ],
      "text/plain": [
       "MSE: 3.2711047692657083\n"
      ]
     },
     "metadata": {},
     "output_type": "display_data"
    },
    {
     "data": {
      "text/html": [
       "<pre style=\"white-space:pre;overflow-x:auto;line-height:normal;font-family:Menlo,'DejaVu Sans Mono',consolas,'Courier New',monospace\">MSE: 0.10465753108132268\n",
       "</pre>\n"
      ],
      "text/plain": [
       "MSE: 0.10465753108132268\n"
      ]
     },
     "metadata": {},
     "output_type": "display_data"
    },
    {
     "data": {
      "text/html": [
       "<pre style=\"white-space:pre;overflow-x:auto;line-height:normal;font-family:Menlo,'DejaVu Sans Mono',consolas,'Courier New',monospace\">MSE: 0.10434132048619955\n",
       "</pre>\n"
      ],
      "text/plain": [
       "MSE: 0.10434132048619955\n"
      ]
     },
     "metadata": {},
     "output_type": "display_data"
    },
    {
     "data": {
      "text/html": [
       "<pre style=\"white-space:pre;overflow-x:auto;line-height:normal;font-family:Menlo,'DejaVu Sans Mono',consolas,'Courier New',monospace\">MSE: 0.10423224260656118\n",
       "</pre>\n"
      ],
      "text/plain": [
       "MSE: 0.10423224260656118\n"
      ]
     },
     "metadata": {},
     "output_type": "display_data"
    },
    {
     "data": {
      "text/html": [
       "<pre style=\"white-space:pre;overflow-x:auto;line-height:normal;font-family:Menlo,'DejaVu Sans Mono',consolas,'Courier New',monospace\">MSE: 0.1041616251084174\n",
       "</pre>\n"
      ],
      "text/plain": [
       "MSE: 0.1041616251084174\n"
      ]
     },
     "metadata": {},
     "output_type": "display_data"
    },
    {
     "data": {
      "text/html": [
       "<pre style=\"white-space:pre;overflow-x:auto;line-height:normal;font-family:Menlo,'DejaVu Sans Mono',consolas,'Courier New',monospace\">MSE: 0.09615373231020084\n",
       "</pre>\n"
      ],
      "text/plain": [
       "MSE: 0.09615373231020084\n"
      ]
     },
     "metadata": {},
     "output_type": "display_data"
    },
    {
     "data": {
      "text/html": [
       "<pre style=\"white-space:pre;overflow-x:auto;line-height:normal;font-family:Menlo,'DejaVu Sans Mono',consolas,'Courier New',monospace\">MSE: 0.09213535334645492\n",
       "</pre>\n"
      ],
      "text/plain": [
       "MSE: 0.09213535334645492\n"
      ]
     },
     "metadata": {},
     "output_type": "display_data"
    },
    {
     "data": {
      "text/html": [
       "<pre style=\"white-space:pre;overflow-x:auto;line-height:normal;font-family:Menlo,'DejaVu Sans Mono',consolas,'Courier New',monospace\">MSE: 0.09210837618119228\n",
       "</pre>\n"
      ],
      "text/plain": [
       "MSE: 0.09210837618119228\n"
      ]
     },
     "metadata": {},
     "output_type": "display_data"
    },
    {
     "data": {
      "text/html": [
       "<pre style=\"white-space:pre;overflow-x:auto;line-height:normal;font-family:Menlo,'DejaVu Sans Mono',consolas,'Courier New',monospace\">MSE: 0.09209275048857103\n",
       "</pre>\n"
      ],
      "text/plain": [
       "MSE: 0.09209275048857103\n"
      ]
     },
     "metadata": {},
     "output_type": "display_data"
    },
    {
     "data": {
      "text/html": [
       "<pre style=\"white-space:pre;overflow-x:auto;line-height:normal;font-family:Menlo,'DejaVu Sans Mono',consolas,'Courier New',monospace\">MSE: 0.09208157986044299\n",
       "</pre>\n"
      ],
      "text/plain": [
       "MSE: 0.09208157986044299\n"
      ]
     },
     "metadata": {},
     "output_type": "display_data"
    },
    {
     "data": {
      "text/html": [
       "<pre style=\"white-space:pre;overflow-x:auto;line-height:normal;font-family:Menlo,'DejaVu Sans Mono',consolas,'Courier New',monospace\">MSE: 0.09207291969941417\n",
       "</pre>\n"
      ],
      "text/plain": [
       "MSE: 0.09207291969941417\n"
      ]
     },
     "metadata": {},
     "output_type": "display_data"
    },
    {
     "data": {
      "text/html": [
       "<pre style=\"white-space:pre;overflow-x:auto;line-height:normal;font-family:Menlo,'DejaVu Sans Mono',consolas,'Courier New',monospace\">MSE: 0.09206585126768584\n",
       "</pre>\n"
      ],
      "text/plain": [
       "MSE: 0.09206585126768584\n"
      ]
     },
     "metadata": {},
     "output_type": "display_data"
    },
    {
     "data": {
      "text/html": [
       "<pre style=\"white-space:pre;overflow-x:auto;line-height:normal;font-family:Menlo,'DejaVu Sans Mono',consolas,'Courier New',monospace\">MSE: 0.09205979108394276\n",
       "</pre>\n"
      ],
      "text/plain": [
       "MSE: 0.09205979108394276\n"
      ]
     },
     "metadata": {},
     "output_type": "display_data"
    },
    {
     "data": {
      "text/html": [
       "<pre style=\"white-space:pre;overflow-x:auto;line-height:normal;font-family:Menlo,'DejaVu Sans Mono',consolas,'Courier New',monospace\">MSE: 0.09205369948405133\n",
       "</pre>\n"
      ],
      "text/plain": [
       "MSE: 0.09205369948405133\n"
      ]
     },
     "metadata": {},
     "output_type": "display_data"
    },
    {
     "data": {
      "text/html": [
       "<pre style=\"white-space:pre;overflow-x:auto;line-height:normal;font-family:Menlo,'DejaVu Sans Mono',consolas,'Courier New',monospace\">MSE: 0.08806570894352028\n",
       "</pre>\n"
      ],
      "text/plain": [
       "MSE: 0.08806570894352028\n"
      ]
     },
     "metadata": {},
     "output_type": "display_data"
    },
    {
     "data": {
      "text/html": [
       "<pre style=\"white-space:pre;overflow-x:auto;line-height:normal;font-family:Menlo,'DejaVu Sans Mono',consolas,'Courier New',monospace\">MSE: 0.0880536575668028\n",
       "</pre>\n"
      ],
      "text/plain": [
       "MSE: 0.0880536575668028\n"
      ]
     },
     "metadata": {},
     "output_type": "display_data"
    },
    {
     "data": {
      "text/html": [
       "<pre style=\"white-space:pre;overflow-x:auto;line-height:normal;font-family:Menlo,'DejaVu Sans Mono',consolas,'Courier New',monospace\">MSE: 0.08804772293035042\n",
       "</pre>\n"
      ],
      "text/plain": [
       "MSE: 0.08804772293035042\n"
      ]
     },
     "metadata": {},
     "output_type": "display_data"
    },
    {
     "data": {
      "text/html": [
       "<pre style=\"white-space:pre;overflow-x:auto;line-height:normal;font-family:Menlo,'DejaVu Sans Mono',consolas,'Courier New',monospace\">MSE: 0.08804346105374988\n",
       "</pre>\n"
      ],
      "text/plain": [
       "MSE: 0.08804346105374988\n"
      ]
     },
     "metadata": {},
     "output_type": "display_data"
    },
    {
     "data": {
      "text/html": [
       "<pre style=\"white-space:pre;overflow-x:auto;line-height:normal;font-family:Menlo,'DejaVu Sans Mono',consolas,'Courier New',monospace\">MSE: 0.08803991401871661\n",
       "</pre>\n"
      ],
      "text/plain": [
       "MSE: 0.08803991401871661\n"
      ]
     },
     "metadata": {},
     "output_type": "display_data"
    },
    {
     "data": {
      "text/html": [
       "<pre style=\"white-space:pre;overflow-x:auto;line-height:normal;font-family:Menlo,'DejaVu Sans Mono',consolas,'Courier New',monospace\">MSE: 0.08802586513529435\n",
       "</pre>\n"
      ],
      "text/plain": [
       "MSE: 0.08802586513529435\n"
      ]
     },
     "metadata": {},
     "output_type": "display_data"
    },
    {
     "data": {
      "text/html": [
       "<pre style=\"white-space:pre;overflow-x:auto;line-height:normal;font-family:Menlo,'DejaVu Sans Mono',consolas,'Courier New',monospace\"></pre>\n"
      ],
      "text/plain": []
     },
     "metadata": {},
     "output_type": "display_data"
    },
    {
     "data": {
      "text/html": [
       "<pre style=\"white-space:pre;overflow-x:auto;line-height:normal;font-family:Menlo,'DejaVu Sans Mono',consolas,'Courier New',monospace\">\n",
       "</pre>\n"
      ],
      "text/plain": [
       "\n"
      ]
     },
     "metadata": {},
     "output_type": "display_data"
    }
   ],
   "source": [
    "rede = NeuralNetwork(\n",
    "    Layer(len_inputs=784, neurons=28, function=Tanh()),\n",
    "    Layer(len_inputs=28, neurons=10, function=Tanh()),\n",
    ")\n",
    "rede.fit(x_train[:1000], y_train[:1000], epochs=2000)"
   ]
  },
  {
   "cell_type": "code",
   "execution_count": 87,
   "metadata": {},
   "outputs": [
    {
     "data": {
      "text/plain": [
       "85.74285714285715"
      ]
     },
     "execution_count": 87,
     "metadata": {},
     "output_type": "execute_result"
    }
   ],
   "source": [
    "total = 42000\n",
    "points = 0\n",
    "for idx in range(1000,total):\n",
    "    correct = np.argmax(y_train[idx])\n",
    "    predict = np.argmax(rede.predict(x_train[idx]))\n",
    "    if correct == predict:\n",
    "        points += 1\n",
    "points/total * 100"
   ]
  },
  {
   "cell_type": "code",
   "execution_count": 88,
   "metadata": {},
   "outputs": [
    {
     "name": "stdout",
     "output_type": "stream",
     "text": [
      "Running on local URL:  http://127.0.0.1:7863\n",
      "\n",
      "To create a public link, set `share=True` in `launch()`.\n"
     ]
    },
    {
     "data": {
      "text/html": [
       "<div><iframe src=\"http://127.0.0.1:7863/\" width=\"100%\" height=\"500\" allow=\"autoplay; camera; microphone; clipboard-read; clipboard-write;\" frameborder=\"0\" allowfullscreen></iframe></div>"
      ],
      "text/plain": [
       "<IPython.core.display.HTML object>"
      ]
     },
     "metadata": {},
     "output_type": "display_data"
    },
    {
     "data": {
      "text/plain": []
     },
     "execution_count": 88,
     "metadata": {},
     "output_type": "execute_result"
    }
   ],
   "source": [
    "def predizer_garrancho(garrancho):\n",
    "    if garrancho is not None:\n",
    "        x = garrancho.reshape(1, 784) / 255\n",
    "        return np.argmax(rede.predict(x))\n",
    "\n",
    "\n",
    "\n",
    "\n",
    "import gradio as gr\n",
    "\n",
    "gr.Interface(fn=predizer_garrancho, \n",
    "             inputs=\"sketchpad\",\n",
    "             outputs=\"textbox\",\n",
    "             ).launch()"
   ]
  },
  {
   "cell_type": "code",
   "execution_count": null,
   "metadata": {},
   "outputs": [],
   "source": []
  }
 ],
 "metadata": {
  "kernelspec": {
   "display_name": "Python 3",
   "language": "python",
   "name": "python3"
  },
  "language_info": {
   "codemirror_mode": {
    "name": "ipython",
    "version": 3
   },
   "file_extension": ".py",
   "mimetype": "text/x-python",
   "name": "python",
   "nbconvert_exporter": "python",
   "pygments_lexer": "ipython3",
   "version": "3.11.3"
  },
  "orig_nbformat": 4
 },
 "nbformat": 4,
 "nbformat_minor": 2
}
